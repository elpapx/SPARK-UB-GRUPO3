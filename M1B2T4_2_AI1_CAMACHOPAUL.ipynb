{
  "cells": [
    {
      "cell_type": "markdown",
      "metadata": {
        "id": "view-in-github",
        "colab_type": "text"
      },
      "source": [
        "<a href=\"https://colab.research.google.com/github/elpapx/SPARK-UB-GRUPO3/blob/main/M1B2T4_2_AI1_CAMACHOPAUL.ipynb\" target=\"_parent\"><img src=\"https://colab.research.google.com/assets/colab-badge.svg\" alt=\"Open In Colab\"/></a>"
      ]
    },
    {
      "cell_type": "markdown",
      "metadata": {
        "id": "tW3jK_BDgjno"
      },
      "source": [
        "# **Herramientas de Análisis**\n",
        "\n",
        "---\n",
        "---\n",
        "\n",
        "<!-- script html for image -->\n",
        "\n",
        "<center>\n",
        "\n",
        "\n",
        "<img src=\"https://upload.wikimedia.org/wikipedia/commons/thumb/a/ac/Sw-ep1-logo.svg/1280px-Sw-ep1-logo.svg.png\"  width=\"500\" height=\"150\"/>\n",
        "\n",
        "\n",
        "<br>\n",
        "\n",
        "Fuente de la imagen: [https://es.wikipedia.org](https://es.wikipedia.org/wiki/Star_Wars:_Episodio_I_-_La_amenaza_fantasma)\n",
        "\n",
        "</center>\n",
        "\n",
        "<br>"
      ]
    },
    {
      "cell_type": "markdown",
      "metadata": {
        "id": "CLuiMPEMSvF6"
      },
      "source": [
        "# **Índice**\n",
        "\n",
        "---\n",
        "---\n",
        "\n",
        "> [Herramientas de Análisis](#scrollTo=tW3jK_BDgjno&line=20&uniqifier=1)\n",
        "<br>\n",
        ">>\n",
        ">> [Preparación del Entorno](#scrollTo=5zZfGqOugjnr&line=3&uniqifier=1) \\\\\n",
        ">>   \\\\\n",
        ">> [Ejercicio 1](#scrollTo=1J4h6kTngjn5&line=1&uniqifier=1) \\\\\n",
        ">>"
      ]
    },
    {
      "cell_type": "markdown",
      "metadata": {
        "id": "5zZfGqOugjnr"
      },
      "source": [
        "# Preparación del entorno\n",
        "\n",
        "Padawan! Cuando inicies sesión en Colab, prepara el entorno ejecutando el siguiente código."
      ]
    },
    {
      "cell_type": "code",
      "execution_count": 5,
      "metadata": {
        "id": "JiKiPQdQgjnu",
        "colab": {
          "base_uri": "https://localhost:8080/"
        },
        "outputId": "dddd5889-3268-4e46-ffdc-175a4973ead3"
      },
      "outputs": [
        {
          "output_type": "stream",
          "name": "stdout",
          "text": [
            "Cloning into '/content/mbdds_fc20'...\n",
            "remote: Enumerating objects: 908, done.\u001b[K\n",
            "remote: Counting objects: 100% (203/203), done.\u001b[K\n",
            "remote: Compressing objects: 100% (149/149), done.\u001b[K\n",
            "remote: Total 908 (delta 89), reused 152 (delta 45), pack-reused 705\u001b[K\n",
            "Receiving objects: 100% (908/908), 15.41 MiB | 35.54 MiB/s, done.\n",
            "Resolving deltas: 100% (578/578), done.\n",
            "Already up to date.\n",
            "/content/mbdds_fc20/Python\n",
            "Requirement already satisfied: pandas==1.1.5 in /usr/local/lib/python3.7/dist-packages (from -r requirementsColab.txt (line 1)) (1.1.5)\n",
            "Requirement already satisfied: matplotlib==3.2.2 in /usr/local/lib/python3.7/dist-packages (from -r requirementsColab.txt (line 2)) (3.2.2)\n",
            "Requirement already satisfied: numpy==1.19.5 in /usr/local/lib/python3.7/dist-packages (from -r requirementsColab.txt (line 3)) (1.19.5)\n",
            "Requirement already satisfied: ipython==5.5.0 in /usr/local/lib/python3.7/dist-packages (from -r requirementsColab.txt (line 4)) (5.5.0)\n",
            "Requirement already satisfied: seaborn==0.11.2 in /usr/local/lib/python3.7/dist-packages (from -r requirementsColab.txt (line 5)) (0.11.2)\n",
            "Requirement already satisfied: beautifulsoup4==4.6.3 in /usr/local/lib/python3.7/dist-packages (from -r requirementsColab.txt (line 6)) (4.6.3)\n",
            "Collecting eurostat==0.2.1\n",
            "  Downloading eurostat-0.2.1-py3-none-any.whl (11 kB)\n",
            "Collecting world-bank-data==0.1.3\n",
            "  Downloading world_bank_data-0.1.3.tar.gz (12 kB)\n",
            "Collecting apiclient==1.0.4\n",
            "  Downloading apiclient-1.0.4.tar.gz (4.9 kB)\n",
            "Requirement already satisfied: oauth2client==4.1.3 in /usr/local/lib/python3.7/dist-packages (from -r requirementsColab.txt (line 10)) (4.1.3)\n",
            "Collecting pymongo==3.11.0\n",
            "  Downloading pymongo-3.11.0-cp37-cp37m-manylinux2014_x86_64.whl (511 kB)\n",
            "\u001b[K     |████████████████████████████████| 511 kB 6.9 MB/s \n",
            "\u001b[?25hCollecting tweepy==3.6.0\n",
            "  Downloading tweepy-3.6.0-py2.py3-none-any.whl (29 kB)\n",
            "Collecting facebook-business==9.0.3\n",
            "  Downloading facebook_business-9.0.3-py3-none-any.whl (1.0 MB)\n",
            "\u001b[K     |████████████████████████████████| 1.0 MB 52.1 MB/s \n",
            "\u001b[?25hRequirement already satisfied: lxml==4.2.6 in /usr/local/lib/python3.7/dist-packages (from -r requirementsColab.txt (line 14)) (4.2.6)\n",
            "Requirement already satisfied: bs4==0.0.1 in /usr/local/lib/python3.7/dist-packages (from -r requirementsColab.txt (line 15)) (0.0.1)\n",
            "Collecting selenium==3.141.0\n",
            "  Downloading selenium-3.141.0-py2.py3-none-any.whl (904 kB)\n",
            "\u001b[K     |████████████████████████████████| 904 kB 38.7 MB/s \n",
            "\u001b[?25hCollecting httplib2==0.19.0\n",
            "  Downloading httplib2-0.19.0-py3-none-any.whl (95 kB)\n",
            "\u001b[K     |████████████████████████████████| 95 kB 4.4 MB/s \n",
            "\u001b[?25hCollecting hootsweet==0.7.1\n",
            "  Downloading hootsweet-0.7.1-py3-none-any.whl (7.7 kB)\n",
            "Requirement already satisfied: ipykernel==4.10.1 in /usr/local/lib/python3.7/dist-packages (from -r requirementsColab.txt (line 19)) (4.10.1)\n",
            "Requirement already satisfied: jupyter==1.0.0 in /usr/local/lib/python3.7/dist-packages (from -r requirementsColab.txt (line 20)) (1.0.0)\n",
            "Collecting jupyter-nbextensions-configurator==0.4.1\n",
            "  Downloading jupyter_nbextensions_configurator-0.4.1.tar.gz (479 kB)\n",
            "\u001b[K     |████████████████████████████████| 479 kB 63.0 MB/s \n",
            "\u001b[?25hCollecting jupytext==1.6.0\n",
            "  Downloading jupytext-1.6.0.tar.gz (683 kB)\n",
            "\u001b[K     |████████████████████████████████| 683 kB 57.0 MB/s \n",
            "\u001b[?25hRequirement already satisfied: nbconvert==5.6.1 in /usr/local/lib/python3.7/dist-packages (from -r requirementsColab.txt (line 23)) (5.6.1)\n",
            "Collecting folium==0.2.1\n",
            "  Downloading folium-0.2.1.tar.gz (69 kB)\n",
            "\u001b[K     |████████████████████████████████| 69 kB 7.8 MB/s \n",
            "\u001b[?25hCollecting imgaug==0.2.5\n",
            "  Downloading imgaug-0.2.5.tar.gz (562 kB)\n",
            "\u001b[K     |████████████████████████████████| 562 kB 70.3 MB/s \n",
            "\u001b[?25hRequirement already satisfied: python-dateutil>=2.7.3 in /usr/local/lib/python3.7/dist-packages (from pandas==1.1.5->-r requirementsColab.txt (line 1)) (2.8.2)\n",
            "Requirement already satisfied: pytz>=2017.2 in /usr/local/lib/python3.7/dist-packages (from pandas==1.1.5->-r requirementsColab.txt (line 1)) (2018.9)\n",
            "Requirement already satisfied: pyparsing!=2.0.4,!=2.1.2,!=2.1.6,>=2.0.1 in /usr/local/lib/python3.7/dist-packages (from matplotlib==3.2.2->-r requirementsColab.txt (line 2)) (3.0.6)\n",
            "Requirement already satisfied: cycler>=0.10 in /usr/local/lib/python3.7/dist-packages (from matplotlib==3.2.2->-r requirementsColab.txt (line 2)) (0.11.0)\n",
            "Requirement already satisfied: kiwisolver>=1.0.1 in /usr/local/lib/python3.7/dist-packages (from matplotlib==3.2.2->-r requirementsColab.txt (line 2)) (1.3.2)\n",
            "Requirement already satisfied: pexpect in /usr/local/lib/python3.7/dist-packages (from ipython==5.5.0->-r requirementsColab.txt (line 4)) (4.8.0)\n",
            "Requirement already satisfied: setuptools>=18.5 in /usr/local/lib/python3.7/dist-packages (from ipython==5.5.0->-r requirementsColab.txt (line 4)) (57.4.0)\n",
            "Requirement already satisfied: pickleshare in /usr/local/lib/python3.7/dist-packages (from ipython==5.5.0->-r requirementsColab.txt (line 4)) (0.7.5)\n",
            "Requirement already satisfied: traitlets>=4.2 in /usr/local/lib/python3.7/dist-packages (from ipython==5.5.0->-r requirementsColab.txt (line 4)) (5.1.1)\n",
            "Requirement already satisfied: prompt-toolkit<2.0.0,>=1.0.4 in /usr/local/lib/python3.7/dist-packages (from ipython==5.5.0->-r requirementsColab.txt (line 4)) (1.0.18)\n",
            "Requirement already satisfied: decorator in /usr/local/lib/python3.7/dist-packages (from ipython==5.5.0->-r requirementsColab.txt (line 4)) (4.4.2)\n",
            "Requirement already satisfied: pygments in /usr/local/lib/python3.7/dist-packages (from ipython==5.5.0->-r requirementsColab.txt (line 4)) (2.6.1)\n",
            "Requirement already satisfied: simplegeneric>0.8 in /usr/local/lib/python3.7/dist-packages (from ipython==5.5.0->-r requirementsColab.txt (line 4)) (0.8.1)\n",
            "Requirement already satisfied: scipy>=1.0 in /usr/local/lib/python3.7/dist-packages (from seaborn==0.11.2->-r requirementsColab.txt (line 5)) (1.4.1)\n",
            "Collecting pandasdmx<=0.9\n",
            "  Downloading pandaSDMX-0.9-py2.py3-none-any.whl (45 kB)\n",
            "\u001b[K     |████████████████████████████████| 45 kB 3.6 MB/s \n",
            "\u001b[?25hRequirement already satisfied: requests in /usr/local/lib/python3.7/dist-packages (from eurostat==0.2.1->-r requirementsColab.txt (line 7)) (2.23.0)\n",
            "Requirement already satisfied: cachetools in /usr/local/lib/python3.7/dist-packages (from world-bank-data==0.1.3->-r requirementsColab.txt (line 8)) (4.2.4)\n",
            "Requirement already satisfied: urllib3 in /usr/local/lib/python3.7/dist-packages (from apiclient==1.0.4->-r requirementsColab.txt (line 9)) (1.24.3)\n",
            "Requirement already satisfied: certifi in /usr/local/lib/python3.7/dist-packages (from apiclient==1.0.4->-r requirementsColab.txt (line 9)) (2021.10.8)\n",
            "Requirement already satisfied: pyasn1-modules>=0.0.5 in /usr/local/lib/python3.7/dist-packages (from oauth2client==4.1.3->-r requirementsColab.txt (line 10)) (0.2.8)\n",
            "Requirement already satisfied: rsa>=3.1.4 in /usr/local/lib/python3.7/dist-packages (from oauth2client==4.1.3->-r requirementsColab.txt (line 10)) (4.8)\n",
            "Requirement already satisfied: six>=1.6.1 in /usr/local/lib/python3.7/dist-packages (from oauth2client==4.1.3->-r requirementsColab.txt (line 10)) (1.15.0)\n",
            "Requirement already satisfied: pyasn1>=0.1.7 in /usr/local/lib/python3.7/dist-packages (from oauth2client==4.1.3->-r requirementsColab.txt (line 10)) (0.4.8)\n",
            "Requirement already satisfied: requests-oauthlib>=0.7.0 in /usr/local/lib/python3.7/dist-packages (from tweepy==3.6.0->-r requirementsColab.txt (line 12)) (1.3.0)\n",
            "Requirement already satisfied: PySocks>=1.5.7 in /usr/local/lib/python3.7/dist-packages (from tweepy==3.6.0->-r requirementsColab.txt (line 12)) (1.7.1)\n",
            "Collecting aiohttp\n",
            "  Downloading aiohttp-3.8.1-cp37-cp37m-manylinux_2_5_x86_64.manylinux1_x86_64.manylinux_2_12_x86_64.manylinux2010_x86_64.whl (1.1 MB)\n",
            "\u001b[K     |████████████████████████████████| 1.1 MB 51.7 MB/s \n",
            "\u001b[?25hCollecting pycountry>=19.8.18\n",
            "  Downloading pycountry-22.1.10.tar.gz (10.1 MB)\n",
            "\u001b[K     |████████████████████████████████| 10.1 MB 39.2 MB/s \n",
            "\u001b[?25hCollecting curlify>=2.1.0\n",
            "  Downloading curlify-2.2.1.tar.gz (3.0 kB)\n",
            "Collecting pyparsing!=2.0.4,!=2.1.2,!=2.1.6,>=2.0.1\n",
            "  Downloading pyparsing-2.4.7-py2.py3-none-any.whl (67 kB)\n",
            "\u001b[K     |████████████████████████████████| 67 kB 6.1 MB/s \n",
            "\u001b[?25hCollecting pytz>=2017.2\n",
            "  Downloading pytz-2019.3-py2.py3-none-any.whl (509 kB)\n",
            "\u001b[K     |████████████████████████████████| 509 kB 71.7 MB/s \n",
            "\u001b[?25hCollecting cherrypy<19.0.0,>=18.5.0\n",
            "  Downloading CherryPy-18.6.1-py2.py3-none-any.whl (419 kB)\n",
            "\u001b[K     |████████████████████████████████| 419 kB 68.9 MB/s \n",
            "\u001b[?25hRequirement already satisfied: jupyter-client in /usr/local/lib/python3.7/dist-packages (from ipykernel==4.10.1->-r requirementsColab.txt (line 19)) (5.3.5)\n",
            "Requirement already satisfied: tornado>=4.0 in /usr/local/lib/python3.7/dist-packages (from ipykernel==4.10.1->-r requirementsColab.txt (line 19)) (5.1.1)\n",
            "Requirement already satisfied: ipywidgets in /usr/local/lib/python3.7/dist-packages (from jupyter==1.0.0->-r requirementsColab.txt (line 20)) (7.6.5)\n",
            "Requirement already satisfied: jupyter-console in /usr/local/lib/python3.7/dist-packages (from jupyter==1.0.0->-r requirementsColab.txt (line 20)) (5.2.0)\n",
            "Requirement already satisfied: notebook in /usr/local/lib/python3.7/dist-packages (from jupyter==1.0.0->-r requirementsColab.txt (line 20)) (5.3.1)\n",
            "Requirement already satisfied: qtconsole in /usr/local/lib/python3.7/dist-packages (from jupyter==1.0.0->-r requirementsColab.txt (line 20)) (5.2.2)\n",
            "Collecting jupyter_contrib_core>=0.3.3\n",
            "  Downloading jupyter_contrib_core-0.3.3-py2.py3-none-any.whl (18 kB)\n",
            "Requirement already satisfied: jupyter_core in /usr/local/lib/python3.7/dist-packages (from jupyter-nbextensions-configurator==0.4.1->-r requirementsColab.txt (line 21)) (4.9.1)\n",
            "Requirement already satisfied: pyyaml in /usr/local/lib/python3.7/dist-packages (from jupyter-nbextensions-configurator==0.4.1->-r requirementsColab.txt (line 21)) (3.13)\n",
            "Requirement already satisfied: nbformat>=4.0.0 in /usr/local/lib/python3.7/dist-packages (from jupytext==1.6.0->-r requirementsColab.txt (line 22)) (5.1.3)\n",
            "Requirement already satisfied: toml in /usr/local/lib/python3.7/dist-packages (from jupytext==1.6.0->-r requirementsColab.txt (line 22)) (0.10.2)\n",
            "Collecting markdown-it-py~=0.5.2\n",
            "  Downloading markdown_it_py-0.5.8-py3-none-any.whl (110 kB)\n",
            "\u001b[K     |████████████████████████████████| 110 kB 60.0 MB/s \n",
            "\u001b[?25hRequirement already satisfied: entrypoints>=0.2.2 in /usr/local/lib/python3.7/dist-packages (from nbconvert==5.6.1->-r requirementsColab.txt (line 23)) (0.3)\n",
            "Requirement already satisfied: pandocfilters>=1.4.1 in /usr/local/lib/python3.7/dist-packages (from nbconvert==5.6.1->-r requirementsColab.txt (line 23)) (1.5.0)\n",
            "Requirement already satisfied: mistune<2,>=0.8.1 in /usr/local/lib/python3.7/dist-packages (from nbconvert==5.6.1->-r requirementsColab.txt (line 23)) (0.8.4)\n",
            "Requirement already satisfied: bleach in /usr/local/lib/python3.7/dist-packages (from nbconvert==5.6.1->-r requirementsColab.txt (line 23)) (4.1.0)\n",
            "Requirement already satisfied: defusedxml in /usr/local/lib/python3.7/dist-packages (from nbconvert==5.6.1->-r requirementsColab.txt (line 23)) (0.7.1)\n",
            "Requirement already satisfied: jinja2>=2.4 in /usr/local/lib/python3.7/dist-packages (from nbconvert==5.6.1->-r requirementsColab.txt (line 23)) (2.11.3)\n",
            "Requirement already satisfied: testpath in /usr/local/lib/python3.7/dist-packages (from nbconvert==5.6.1->-r requirementsColab.txt (line 23)) (0.5.0)\n",
            "Requirement already satisfied: scikit-image>=0.11.0 in /usr/local/lib/python3.7/dist-packages (from imgaug==0.2.5->-r requirementsColab.txt (line 25)) (0.18.3)\n",
            "Collecting zc.lockfile\n",
            "  Downloading zc.lockfile-2.0-py2.py3-none-any.whl (9.7 kB)\n",
            "Requirement already satisfied: more-itertools in /usr/local/lib/python3.7/dist-packages (from cherrypy<19.0.0,>=18.5.0->hootsweet==0.7.1->-r requirementsColab.txt (line 18)) (8.12.0)\n",
            "Collecting portend>=2.1.1\n",
            "  Downloading portend-3.1.0-py3-none-any.whl (5.3 kB)\n",
            "Collecting cheroot>=8.2.1\n",
            "  Downloading cheroot-8.6.0-py2.py3-none-any.whl (104 kB)\n",
            "\u001b[K     |████████████████████████████████| 104 kB 59.5 MB/s \n",
            "\u001b[?25hCollecting jaraco.collections\n",
            "  Downloading jaraco.collections-3.5.1-py3-none-any.whl (10 kB)\n",
            "Collecting jaraco.functools\n",
            "  Downloading jaraco.functools-3.5.0-py3-none-any.whl (7.0 kB)\n",
            "Requirement already satisfied: MarkupSafe>=0.23 in /usr/local/lib/python3.7/dist-packages (from jinja2>=2.4->nbconvert==5.6.1->-r requirementsColab.txt (line 23)) (2.0.1)\n",
            "Collecting attrs<21,>=19\n",
            "  Downloading attrs-20.3.0-py2.py3-none-any.whl (49 kB)\n",
            "\u001b[K     |████████████████████████████████| 49 kB 6.2 MB/s \n",
            "\u001b[?25hRequirement already satisfied: jsonschema!=2.5.0,>=2.4 in /usr/local/lib/python3.7/dist-packages (from nbformat>=4.0.0->jupytext==1.6.0->-r requirementsColab.txt (line 22)) (2.6.0)\n",
            "Requirement already satisfied: ipython-genutils in /usr/local/lib/python3.7/dist-packages (from nbformat>=4.0.0->jupytext==1.6.0->-r requirementsColab.txt (line 22)) (0.2.0)\n",
            "Requirement already satisfied: terminado>=0.8.1 in /usr/local/lib/python3.7/dist-packages (from notebook->jupyter==1.0.0->-r requirementsColab.txt (line 20)) (0.12.1)\n",
            "Requirement already satisfied: Send2Trash in /usr/local/lib/python3.7/dist-packages (from notebook->jupyter==1.0.0->-r requirementsColab.txt (line 20)) (1.8.0)\n",
            "Requirement already satisfied: pyzmq>=13 in /usr/local/lib/python3.7/dist-packages (from jupyter-client->ipykernel==4.10.1->-r requirementsColab.txt (line 19)) (22.3.0)\n",
            "Collecting jsonpath-rw\n",
            "  Downloading jsonpath-rw-1.4.0.tar.gz (13 kB)\n",
            "Collecting tempora>=1.8\n",
            "  Downloading tempora-5.0.0-py3-none-any.whl (15 kB)\n",
            "Requirement already satisfied: wcwidth in /usr/local/lib/python3.7/dist-packages (from prompt-toolkit<2.0.0,>=1.0.4->ipython==5.5.0->-r requirementsColab.txt (line 4)) (0.2.5)\n",
            "Requirement already satisfied: idna<3,>=2.5 in /usr/local/lib/python3.7/dist-packages (from requests->eurostat==0.2.1->-r requirementsColab.txt (line 7)) (2.10)\n",
            "Requirement already satisfied: chardet<4,>=3.0.2 in /usr/local/lib/python3.7/dist-packages (from requests->eurostat==0.2.1->-r requirementsColab.txt (line 7)) (3.0.4)\n",
            "Requirement already satisfied: oauthlib>=3.0.0 in /usr/local/lib/python3.7/dist-packages (from requests-oauthlib>=0.7.0->tweepy==3.6.0->-r requirementsColab.txt (line 12)) (3.1.1)\n",
            "Requirement already satisfied: imageio>=2.3.0 in /usr/local/lib/python3.7/dist-packages (from scikit-image>=0.11.0->imgaug==0.2.5->-r requirementsColab.txt (line 25)) (2.4.1)\n",
            "Requirement already satisfied: pillow!=7.1.0,!=7.1.1,>=4.3.0 in /usr/local/lib/python3.7/dist-packages (from scikit-image>=0.11.0->imgaug==0.2.5->-r requirementsColab.txt (line 25)) (7.1.2)\n",
            "Requirement already satisfied: networkx>=2.0 in /usr/local/lib/python3.7/dist-packages (from scikit-image>=0.11.0->imgaug==0.2.5->-r requirementsColab.txt (line 25)) (2.6.3)\n",
            "Requirement already satisfied: PyWavelets>=1.1.1 in /usr/local/lib/python3.7/dist-packages (from scikit-image>=0.11.0->imgaug==0.2.5->-r requirementsColab.txt (line 25)) (1.2.0)\n",
            "Requirement already satisfied: tifffile>=2019.7.26 in /usr/local/lib/python3.7/dist-packages (from scikit-image>=0.11.0->imgaug==0.2.5->-r requirementsColab.txt (line 25)) (2021.11.2)\n",
            "Requirement already satisfied: ptyprocess in /usr/local/lib/python3.7/dist-packages (from terminado>=0.8.1->notebook->jupyter==1.0.0->-r requirementsColab.txt (line 20)) (0.7.0)\n",
            "Collecting frozenlist>=1.1.1\n",
            "  Downloading frozenlist-1.2.0-cp37-cp37m-manylinux_2_5_x86_64.manylinux1_x86_64.manylinux_2_12_x86_64.manylinux2010_x86_64.whl (192 kB)\n",
            "\u001b[K     |████████████████████████████████| 192 kB 57.8 MB/s \n",
            "\u001b[?25hCollecting async-timeout<5.0,>=4.0.0a3\n",
            "  Downloading async_timeout-4.0.2-py3-none-any.whl (5.8 kB)\n",
            "Collecting yarl<2.0,>=1.0\n",
            "  Downloading yarl-1.7.2-cp37-cp37m-manylinux_2_5_x86_64.manylinux1_x86_64.manylinux_2_12_x86_64.manylinux2010_x86_64.whl (271 kB)\n",
            "\u001b[K     |████████████████████████████████| 271 kB 64.3 MB/s \n",
            "\u001b[?25hRequirement already satisfied: typing-extensions>=3.7.4 in /usr/local/lib/python3.7/dist-packages (from aiohttp->facebook-business==9.0.3->-r requirementsColab.txt (line 13)) (3.10.0.2)\n",
            "Collecting asynctest==0.13.0\n",
            "  Downloading asynctest-0.13.0-py3-none-any.whl (26 kB)\n",
            "Requirement already satisfied: charset-normalizer<3.0,>=2.0 in /usr/local/lib/python3.7/dist-packages (from aiohttp->facebook-business==9.0.3->-r requirementsColab.txt (line 13)) (2.0.9)\n",
            "Collecting aiosignal>=1.1.2\n",
            "  Downloading aiosignal-1.2.0-py3-none-any.whl (8.2 kB)\n",
            "Collecting multidict<7.0,>=4.5\n",
            "  Downloading multidict-5.2.0-cp37-cp37m-manylinux_2_5_x86_64.manylinux1_x86_64.manylinux_2_12_x86_64.manylinux2010_x86_64.whl (160 kB)\n",
            "\u001b[K     |████████████████████████████████| 160 kB 59.5 MB/s \n",
            "\u001b[?25hRequirement already satisfied: webencodings in /usr/local/lib/python3.7/dist-packages (from bleach->nbconvert==5.6.1->-r requirementsColab.txt (line 23)) (0.5.1)\n",
            "Requirement already satisfied: packaging in /usr/local/lib/python3.7/dist-packages (from bleach->nbconvert==5.6.1->-r requirementsColab.txt (line 23)) (21.3)\n",
            "Requirement already satisfied: jupyterlab-widgets>=1.0.0 in /usr/local/lib/python3.7/dist-packages (from ipywidgets->jupyter==1.0.0->-r requirementsColab.txt (line 20)) (1.0.2)\n",
            "Requirement already satisfied: widgetsnbextension~=3.5.0 in /usr/local/lib/python3.7/dist-packages (from ipywidgets->jupyter==1.0.0->-r requirementsColab.txt (line 20)) (3.5.2)\n",
            "Collecting jaraco.text\n",
            "  Downloading jaraco.text-3.6.0-py3-none-any.whl (8.1 kB)\n",
            "Collecting jaraco.classes\n",
            "  Downloading jaraco.classes-3.2.1-py3-none-any.whl (5.6 kB)\n",
            "Requirement already satisfied: importlib-resources in /usr/local/lib/python3.7/dist-packages (from jaraco.text->jaraco.collections->cherrypy<19.0.0,>=18.5.0->hootsweet==0.7.1->-r requirementsColab.txt (line 18)) (5.4.0)\n",
            "Requirement already satisfied: zipp>=3.1.0 in /usr/local/lib/python3.7/dist-packages (from importlib-resources->jaraco.text->jaraco.collections->cherrypy<19.0.0,>=18.5.0->hootsweet==0.7.1->-r requirementsColab.txt (line 18)) (3.6.0)\n",
            "Collecting ply\n",
            "  Downloading ply-3.11-py2.py3-none-any.whl (49 kB)\n",
            "\u001b[K     |████████████████████████████████| 49 kB 6.9 MB/s \n",
            "\u001b[?25hRequirement already satisfied: qtpy in /usr/local/lib/python3.7/dist-packages (from qtconsole->jupyter==1.0.0->-r requirementsColab.txt (line 20)) (2.0.0)\n",
            "Building wheels for collected packages: world-bank-data, apiclient, jupyter-nbextensions-configurator, jupytext, folium, imgaug, curlify, pycountry, jsonpath-rw\n",
            "  Building wheel for world-bank-data (setup.py) ... \u001b[?25l\u001b[?25hdone\n",
            "  Created wheel for world-bank-data: filename=world_bank_data-0.1.3-py3-none-any.whl size=11111 sha256=06577e8866299b8052f2fd8dff94b72cf7027d9f58775c07881bb63b281a2608\n",
            "  Stored in directory: /root/.cache/pip/wheels/95/74/5e/c32dde16dc1ef8d8e9cf134ac93ae723ffec4f60be9c4873f5\n",
            "  Building wheel for apiclient (setup.py) ... \u001b[?25l\u001b[?25hdone\n",
            "  Created wheel for apiclient: filename=apiclient-1.0.4-py3-none-any.whl size=5210 sha256=547bff172e961ee7d4f3683d1af69c2fe7824b6419d78317f443cdf136a65d60\n",
            "  Stored in directory: /root/.cache/pip/wheels/c7/9d/f6/110cd0d23b715dcabe2922456c5736f4b292cd1bfefde26a5e\n",
            "  Building wheel for jupyter-nbextensions-configurator (setup.py) ... \u001b[?25l\u001b[?25hdone\n",
            "  Created wheel for jupyter-nbextensions-configurator: filename=jupyter_nbextensions_configurator-0.4.1-py2.py3-none-any.whl size=465842 sha256=b25bec2d2c54a74379bb5f3712f07533be184cc31afe0fd9fb989646ad2a0ca9\n",
            "  Stored in directory: /root/.cache/pip/wheels/8d/c4/b5/e4b61f624036f83566580d61f24af7b73180b1361ee1ab3722\n",
            "  Building wheel for jupytext (setup.py) ... \u001b[?25l\u001b[?25hdone\n",
            "  Created wheel for jupytext: filename=jupytext-1.6.0-py3-none-any.whl size=284384 sha256=9e725df4445d57150b6c5d3e4409f69c003ac993814981ef2eedc698967872eb\n",
            "  Stored in directory: /root/.cache/pip/wheels/15/c8/81/2f384c64971e1be15495b8a83996581c187224055cd8522da6\n",
            "  Building wheel for folium (setup.py) ... \u001b[?25l\u001b[?25hdone\n",
            "  Created wheel for folium: filename=folium-0.2.1-py3-none-any.whl size=79809 sha256=f6a7dac335d912eec971dc2df2bcd800d58014d70d6a1c253d41be0a0df2b845\n",
            "  Stored in directory: /root/.cache/pip/wheels/9a/f0/3a/3f79a6914ff5affaf50cabad60c9f4d565283283c97f0bdccf\n",
            "  Building wheel for imgaug (setup.py) ... \u001b[?25l\u001b[?25hdone\n",
            "  Created wheel for imgaug: filename=imgaug-0.2.5-py3-none-any.whl size=561438 sha256=37c859978fc26405baf3da128482b269c85c8908c50f7ac70b0f85666ee55c3f\n",
            "  Stored in directory: /root/.cache/pip/wheels/60/dd/38/d1dc2cad2b6a66dc0249261004990bccb0f27985c74ba26e49\n",
            "  Building wheel for curlify (setup.py) ... \u001b[?25l\u001b[?25hdone\n",
            "  Created wheel for curlify: filename=curlify-2.2.1-py3-none-any.whl size=2672 sha256=a100aa00de9982004ba8af92a4fb8478a7844e79e3e0f13f6473134c4f6a7560\n",
            "  Stored in directory: /root/.cache/pip/wheels/fa/6f/f6/c8c15889b355eb3ef2df27118cccee350fa4f9c75bdd888e23\n",
            "  Building wheel for pycountry (setup.py) ... \u001b[?25l\u001b[?25hdone\n",
            "  Created wheel for pycountry: filename=pycountry-22.1.10-py2.py3-none-any.whl size=10595786 sha256=8fc9ef3fcd549ad0d657dcb7c08f07a8e8f85580bd6a839b7cbc1e909acd57ad\n",
            "  Stored in directory: /root/.cache/pip/wheels/f7/8f/9c/b070d7376caf2beb0685bf72578106b2fd57019ed57d84f126\n",
            "  Building wheel for jsonpath-rw (setup.py) ... \u001b[?25l\u001b[?25hdone\n",
            "  Created wheel for jsonpath-rw: filename=jsonpath_rw-1.4.0-py3-none-any.whl size=15145 sha256=97f21f44a166ad6a50e7036a6f956bd59167a63bf117931943c22e898d10bd5f\n",
            "  Stored in directory: /root/.cache/pip/wheels/58/88/2a/8d619cf38d7cf939e54b6ccdece05d31b64b3eb419c11d1ed3\n",
            "Successfully built world-bank-data apiclient jupyter-nbextensions-configurator jupytext folium imgaug curlify pycountry jsonpath-rw\n",
            "Installing collected packages: pyparsing, pytz, jaraco.functools, tempora, ply, multidict, jaraco.text, jaraco.classes, frozenlist, zc.lockfile, yarl, portend, jsonpath-rw, jaraco.collections, cheroot, attrs, asynctest, async-timeout, aiosignal, pycountry, pandasdmx, markdown-it-py, jupyter-contrib-core, httplib2, curlify, cherrypy, aiohttp, world-bank-data, tweepy, selenium, pymongo, jupytext, jupyter-nbextensions-configurator, imgaug, hootsweet, folium, facebook-business, eurostat, apiclient\n",
            "  Attempting uninstall: pyparsing\n",
            "    Found existing installation: pyparsing 3.0.6\n",
            "    Uninstalling pyparsing-3.0.6:\n",
            "      Successfully uninstalled pyparsing-3.0.6\n",
            "  Attempting uninstall: pytz\n",
            "    Found existing installation: pytz 2018.9\n",
            "    Uninstalling pytz-2018.9:\n",
            "      Successfully uninstalled pytz-2018.9\n",
            "  Attempting uninstall: attrs\n",
            "    Found existing installation: attrs 21.2.0\n",
            "    Uninstalling attrs-21.2.0:\n",
            "      Successfully uninstalled attrs-21.2.0\n",
            "  Attempting uninstall: httplib2\n",
            "    Found existing installation: httplib2 0.17.4\n",
            "    Uninstalling httplib2-0.17.4:\n",
            "      Successfully uninstalled httplib2-0.17.4\n",
            "  Attempting uninstall: tweepy\n",
            "    Found existing installation: tweepy 3.10.0\n",
            "    Uninstalling tweepy-3.10.0:\n",
            "      Successfully uninstalled tweepy-3.10.0\n",
            "  Attempting uninstall: pymongo\n",
            "    Found existing installation: pymongo 3.12.1\n",
            "    Uninstalling pymongo-3.12.1:\n",
            "      Successfully uninstalled pymongo-3.12.1\n",
            "  Attempting uninstall: imgaug\n",
            "    Found existing installation: imgaug 0.2.9\n",
            "    Uninstalling imgaug-0.2.9:\n",
            "      Successfully uninstalled imgaug-0.2.9\n",
            "  Attempting uninstall: folium\n",
            "    Found existing installation: folium 0.8.3\n",
            "    Uninstalling folium-0.8.3:\n",
            "      Successfully uninstalled folium-0.8.3\n",
            "Successfully installed aiohttp-3.8.1 aiosignal-1.2.0 apiclient-1.0.4 async-timeout-4.0.2 asynctest-0.13.0 attrs-20.3.0 cheroot-8.6.0 cherrypy-18.6.1 curlify-2.2.1 eurostat-0.2.1 facebook-business-9.0.3 folium-0.2.1 frozenlist-1.2.0 hootsweet-0.7.1 httplib2-0.19.0 imgaug-0.2.5 jaraco.classes-3.2.1 jaraco.collections-3.5.1 jaraco.functools-3.5.0 jaraco.text-3.6.0 jsonpath-rw-1.4.0 jupyter-contrib-core-0.3.3 jupyter-nbextensions-configurator-0.4.1 jupytext-1.6.0 markdown-it-py-0.5.8 multidict-5.2.0 pandasdmx-0.9 ply-3.11 portend-3.1.0 pycountry-22.1.10 pymongo-3.11.0 pyparsing-2.4.7 pytz-2019.3 selenium-3.141.0 tempora-5.0.0 tweepy-3.6.0 world-bank-data-0.1.3 yarl-1.7.2 zc.lockfile-2.0\n"
          ]
        }
      ],
      "source": [
        "if 'google.colab' in str(get_ipython()):\n",
        "    !git clone https://github.com/griu/mbdds_fc20.git /content/mbdds_fc20\n",
        "    !git -C /content/mbdds_fc20 pull\n",
        "    %cd /content/mbdds_fc20/Python\n",
        "    !python -m pip install -r requirementsColab.txt"
      ]
    },
    {
      "cell_type": "markdown",
      "metadata": {
        "id": "1J4h6kTngjn5"
      },
      "source": [
        "# Ejercicio 1\n",
        "\n",
        "Para realizar el ejercicio cargamos los datos de *Especies* en STARWARS SWAPI y las librerías principales."
      ]
    },
    {
      "cell_type": "code",
      "execution_count": 6,
      "metadata": {
        "id": "2V3mrVHSgjn7",
        "colab": {
          "base_uri": "https://localhost:8080/",
          "height": 1000
        },
        "outputId": "1894e118-b41f-42cc-b115-afd68333d824"
      },
      "outputs": [
        {
          "output_type": "execute_result",
          "data": {
            "text/html": [
              "\n",
              "  <div id=\"df-82e6b6a3-e10d-45f1-8664-d18f4f910d11\">\n",
              "    <div class=\"colab-df-container\">\n",
              "      <div>\n",
              "<style scoped>\n",
              "    .dataframe tbody tr th:only-of-type {\n",
              "        vertical-align: middle;\n",
              "    }\n",
              "\n",
              "    .dataframe tbody tr th {\n",
              "        vertical-align: top;\n",
              "    }\n",
              "\n",
              "    .dataframe thead th {\n",
              "        text-align: right;\n",
              "    }\n",
              "</style>\n",
              "<table border=\"1\" class=\"dataframe\">\n",
              "  <thead>\n",
              "    <tr style=\"text-align: right;\">\n",
              "      <th></th>\n",
              "      <th>height</th>\n",
              "      <th>mass</th>\n",
              "      <th>birth_year</th>\n",
              "      <th>gender</th>\n",
              "      <th>homeworld</th>\n",
              "    </tr>\n",
              "    <tr>\n",
              "      <th>name</th>\n",
              "      <th></th>\n",
              "      <th></th>\n",
              "      <th></th>\n",
              "      <th></th>\n",
              "      <th></th>\n",
              "    </tr>\n",
              "  </thead>\n",
              "  <tbody>\n",
              "    <tr>\n",
              "      <th>Luke Skywalker</th>\n",
              "      <td>172.0</td>\n",
              "      <td>77.0</td>\n",
              "      <td>19.0</td>\n",
              "      <td>male</td>\n",
              "      <td>http://swapi.dev/api/planets/1/</td>\n",
              "    </tr>\n",
              "    <tr>\n",
              "      <th>C-3PO</th>\n",
              "      <td>167.0</td>\n",
              "      <td>75.0</td>\n",
              "      <td>112.0</td>\n",
              "      <td>none</td>\n",
              "      <td>http://swapi.dev/api/planets/1/</td>\n",
              "    </tr>\n",
              "    <tr>\n",
              "      <th>R2-D2</th>\n",
              "      <td>96.0</td>\n",
              "      <td>32.0</td>\n",
              "      <td>33.0</td>\n",
              "      <td>none</td>\n",
              "      <td>http://swapi.dev/api/planets/8/</td>\n",
              "    </tr>\n",
              "    <tr>\n",
              "      <th>Darth Vader</th>\n",
              "      <td>202.0</td>\n",
              "      <td>136.0</td>\n",
              "      <td>41.9</td>\n",
              "      <td>male</td>\n",
              "      <td>http://swapi.dev/api/planets/1/</td>\n",
              "    </tr>\n",
              "    <tr>\n",
              "      <th>Leia Organa</th>\n",
              "      <td>150.0</td>\n",
              "      <td>49.0</td>\n",
              "      <td>19.0</td>\n",
              "      <td>female</td>\n",
              "      <td>http://swapi.dev/api/planets/2/</td>\n",
              "    </tr>\n",
              "    <tr>\n",
              "      <th>Owen Lars</th>\n",
              "      <td>178.0</td>\n",
              "      <td>120.0</td>\n",
              "      <td>52.0</td>\n",
              "      <td>male</td>\n",
              "      <td>http://swapi.dev/api/planets/1/</td>\n",
              "    </tr>\n",
              "    <tr>\n",
              "      <th>Beru Whitesun lars</th>\n",
              "      <td>165.0</td>\n",
              "      <td>75.0</td>\n",
              "      <td>47.0</td>\n",
              "      <td>female</td>\n",
              "      <td>http://swapi.dev/api/planets/1/</td>\n",
              "    </tr>\n",
              "    <tr>\n",
              "      <th>Biggs Darklighter</th>\n",
              "      <td>183.0</td>\n",
              "      <td>84.0</td>\n",
              "      <td>24.0</td>\n",
              "      <td>male</td>\n",
              "      <td>http://swapi.dev/api/planets/1/</td>\n",
              "    </tr>\n",
              "    <tr>\n",
              "      <th>Obi-Wan Kenobi</th>\n",
              "      <td>182.0</td>\n",
              "      <td>77.0</td>\n",
              "      <td>57.0</td>\n",
              "      <td>male</td>\n",
              "      <td>http://swapi.dev/api/planets/20/</td>\n",
              "    </tr>\n",
              "    <tr>\n",
              "      <th>Anakin Skywalker</th>\n",
              "      <td>188.0</td>\n",
              "      <td>84.0</td>\n",
              "      <td>41.9</td>\n",
              "      <td>male</td>\n",
              "      <td>http://swapi.dev/api/planets/1/</td>\n",
              "    </tr>\n",
              "    <tr>\n",
              "      <th>Chewbacca</th>\n",
              "      <td>228.0</td>\n",
              "      <td>112.0</td>\n",
              "      <td>200.0</td>\n",
              "      <td>male</td>\n",
              "      <td>http://swapi.dev/api/planets/14/</td>\n",
              "    </tr>\n",
              "    <tr>\n",
              "      <th>Han Solo</th>\n",
              "      <td>180.0</td>\n",
              "      <td>80.0</td>\n",
              "      <td>29.0</td>\n",
              "      <td>male</td>\n",
              "      <td>http://swapi.dev/api/planets/22/</td>\n",
              "    </tr>\n",
              "    <tr>\n",
              "      <th>Greedo</th>\n",
              "      <td>173.0</td>\n",
              "      <td>74.0</td>\n",
              "      <td>44.0</td>\n",
              "      <td>male</td>\n",
              "      <td>http://swapi.dev/api/planets/23/</td>\n",
              "    </tr>\n",
              "    <tr>\n",
              "      <th>Jabba Desilijic Tiure</th>\n",
              "      <td>175.0</td>\n",
              "      <td>1358.0</td>\n",
              "      <td>600.0</td>\n",
              "      <td>hermaphrodite</td>\n",
              "      <td>http://swapi.dev/api/planets/24/</td>\n",
              "    </tr>\n",
              "    <tr>\n",
              "      <th>Wedge Antilles</th>\n",
              "      <td>170.0</td>\n",
              "      <td>77.0</td>\n",
              "      <td>21.0</td>\n",
              "      <td>male</td>\n",
              "      <td>http://swapi.dev/api/planets/22/</td>\n",
              "    </tr>\n",
              "    <tr>\n",
              "      <th>Yoda</th>\n",
              "      <td>66.0</td>\n",
              "      <td>17.0</td>\n",
              "      <td>896.0</td>\n",
              "      <td>male</td>\n",
              "      <td>http://swapi.dev/api/planets/28/</td>\n",
              "    </tr>\n",
              "    <tr>\n",
              "      <th>Palpatine</th>\n",
              "      <td>170.0</td>\n",
              "      <td>75.0</td>\n",
              "      <td>82.0</td>\n",
              "      <td>male</td>\n",
              "      <td>http://swapi.dev/api/planets/8/</td>\n",
              "    </tr>\n",
              "    <tr>\n",
              "      <th>Boba Fett</th>\n",
              "      <td>183.0</td>\n",
              "      <td>78.2</td>\n",
              "      <td>31.5</td>\n",
              "      <td>male</td>\n",
              "      <td>http://swapi.dev/api/planets/10/</td>\n",
              "    </tr>\n",
              "    <tr>\n",
              "      <th>IG-88</th>\n",
              "      <td>200.0</td>\n",
              "      <td>140.0</td>\n",
              "      <td>15.0</td>\n",
              "      <td>none</td>\n",
              "      <td>http://swapi.dev/api/planets/28/</td>\n",
              "    </tr>\n",
              "    <tr>\n",
              "      <th>Bossk</th>\n",
              "      <td>190.0</td>\n",
              "      <td>113.0</td>\n",
              "      <td>53.0</td>\n",
              "      <td>male</td>\n",
              "      <td>http://swapi.dev/api/planets/29/</td>\n",
              "    </tr>\n",
              "    <tr>\n",
              "      <th>Lando Calrissian</th>\n",
              "      <td>177.0</td>\n",
              "      <td>79.0</td>\n",
              "      <td>31.0</td>\n",
              "      <td>male</td>\n",
              "      <td>http://swapi.dev/api/planets/30/</td>\n",
              "    </tr>\n",
              "    <tr>\n",
              "      <th>Lobot</th>\n",
              "      <td>175.0</td>\n",
              "      <td>79.0</td>\n",
              "      <td>37.0</td>\n",
              "      <td>male</td>\n",
              "      <td>http://swapi.dev/api/planets/6/</td>\n",
              "    </tr>\n",
              "    <tr>\n",
              "      <th>Ackbar</th>\n",
              "      <td>180.0</td>\n",
              "      <td>83.0</td>\n",
              "      <td>41.0</td>\n",
              "      <td>male</td>\n",
              "      <td>http://swapi.dev/api/planets/31/</td>\n",
              "    </tr>\n",
              "    <tr>\n",
              "      <th>Wicket Systri Warrick</th>\n",
              "      <td>88.0</td>\n",
              "      <td>20.0</td>\n",
              "      <td>8.0</td>\n",
              "      <td>male</td>\n",
              "      <td>http://swapi.dev/api/planets/7/</td>\n",
              "    </tr>\n",
              "    <tr>\n",
              "      <th>Qui-Gon Jinn</th>\n",
              "      <td>193.0</td>\n",
              "      <td>89.0</td>\n",
              "      <td>92.0</td>\n",
              "      <td>male</td>\n",
              "      <td>http://swapi.dev/api/planets/28/</td>\n",
              "    </tr>\n",
              "    <tr>\n",
              "      <th>Padmé Amidala</th>\n",
              "      <td>185.0</td>\n",
              "      <td>45.0</td>\n",
              "      <td>46.0</td>\n",
              "      <td>female</td>\n",
              "      <td>http://swapi.dev/api/planets/8/</td>\n",
              "    </tr>\n",
              "    <tr>\n",
              "      <th>Jar Jar Binks</th>\n",
              "      <td>196.0</td>\n",
              "      <td>66.0</td>\n",
              "      <td>52.0</td>\n",
              "      <td>male</td>\n",
              "      <td>http://swapi.dev/api/planets/8/</td>\n",
              "    </tr>\n",
              "    <tr>\n",
              "      <th>Darth Maul</th>\n",
              "      <td>175.0</td>\n",
              "      <td>80.0</td>\n",
              "      <td>54.0</td>\n",
              "      <td>male</td>\n",
              "      <td>http://swapi.dev/api/planets/36/</td>\n",
              "    </tr>\n",
              "    <tr>\n",
              "      <th>Ayla Secura</th>\n",
              "      <td>178.0</td>\n",
              "      <td>55.0</td>\n",
              "      <td>48.0</td>\n",
              "      <td>female</td>\n",
              "      <td>http://swapi.dev/api/planets/37/</td>\n",
              "    </tr>\n",
              "    <tr>\n",
              "      <th>Mace Windu</th>\n",
              "      <td>188.0</td>\n",
              "      <td>84.0</td>\n",
              "      <td>72.0</td>\n",
              "      <td>male</td>\n",
              "      <td>http://swapi.dev/api/planets/42/</td>\n",
              "    </tr>\n",
              "    <tr>\n",
              "      <th>Ki-Adi-Mundi</th>\n",
              "      <td>198.0</td>\n",
              "      <td>82.0</td>\n",
              "      <td>92.0</td>\n",
              "      <td>male</td>\n",
              "      <td>http://swapi.dev/api/planets/43/</td>\n",
              "    </tr>\n",
              "    <tr>\n",
              "      <th>Plo Koon</th>\n",
              "      <td>188.0</td>\n",
              "      <td>80.0</td>\n",
              "      <td>22.0</td>\n",
              "      <td>male</td>\n",
              "      <td>http://swapi.dev/api/planets/49/</td>\n",
              "    </tr>\n",
              "    <tr>\n",
              "      <th>Luminara Unduli</th>\n",
              "      <td>170.0</td>\n",
              "      <td>56.2</td>\n",
              "      <td>58.0</td>\n",
              "      <td>female</td>\n",
              "      <td>http://swapi.dev/api/planets/51/</td>\n",
              "    </tr>\n",
              "    <tr>\n",
              "      <th>Barriss Offee</th>\n",
              "      <td>166.0</td>\n",
              "      <td>50.0</td>\n",
              "      <td>40.0</td>\n",
              "      <td>female</td>\n",
              "      <td>http://swapi.dev/api/planets/51/</td>\n",
              "    </tr>\n",
              "    <tr>\n",
              "      <th>Dooku</th>\n",
              "      <td>193.0</td>\n",
              "      <td>80.0</td>\n",
              "      <td>102.0</td>\n",
              "      <td>male</td>\n",
              "      <td>http://swapi.dev/api/planets/52/</td>\n",
              "    </tr>\n",
              "    <tr>\n",
              "      <th>Jango Fett</th>\n",
              "      <td>183.0</td>\n",
              "      <td>79.0</td>\n",
              "      <td>66.0</td>\n",
              "      <td>male</td>\n",
              "      <td>http://swapi.dev/api/planets/53/</td>\n",
              "    </tr>\n",
              "  </tbody>\n",
              "</table>\n",
              "</div>\n",
              "      <button class=\"colab-df-convert\" onclick=\"convertToInteractive('df-82e6b6a3-e10d-45f1-8664-d18f4f910d11')\"\n",
              "              title=\"Convert this dataframe to an interactive table.\"\n",
              "              style=\"display:none;\">\n",
              "        \n",
              "  <svg xmlns=\"http://www.w3.org/2000/svg\" height=\"24px\"viewBox=\"0 0 24 24\"\n",
              "       width=\"24px\">\n",
              "    <path d=\"M0 0h24v24H0V0z\" fill=\"none\"/>\n",
              "    <path d=\"M18.56 5.44l.94 2.06.94-2.06 2.06-.94-2.06-.94-.94-2.06-.94 2.06-2.06.94zm-11 1L8.5 8.5l.94-2.06 2.06-.94-2.06-.94L8.5 2.5l-.94 2.06-2.06.94zm10 10l.94 2.06.94-2.06 2.06-.94-2.06-.94-.94-2.06-.94 2.06-2.06.94z\"/><path d=\"M17.41 7.96l-1.37-1.37c-.4-.4-.92-.59-1.43-.59-.52 0-1.04.2-1.43.59L10.3 9.45l-7.72 7.72c-.78.78-.78 2.05 0 2.83L4 21.41c.39.39.9.59 1.41.59.51 0 1.02-.2 1.41-.59l7.78-7.78 2.81-2.81c.8-.78.8-2.07 0-2.86zM5.41 20L4 18.59l7.72-7.72 1.47 1.35L5.41 20z\"/>\n",
              "  </svg>\n",
              "      </button>\n",
              "      \n",
              "  <style>\n",
              "    .colab-df-container {\n",
              "      display:flex;\n",
              "      flex-wrap:wrap;\n",
              "      gap: 12px;\n",
              "    }\n",
              "\n",
              "    .colab-df-convert {\n",
              "      background-color: #E8F0FE;\n",
              "      border: none;\n",
              "      border-radius: 50%;\n",
              "      cursor: pointer;\n",
              "      display: none;\n",
              "      fill: #1967D2;\n",
              "      height: 32px;\n",
              "      padding: 0 0 0 0;\n",
              "      width: 32px;\n",
              "    }\n",
              "\n",
              "    .colab-df-convert:hover {\n",
              "      background-color: #E2EBFA;\n",
              "      box-shadow: 0px 1px 2px rgba(60, 64, 67, 0.3), 0px 1px 3px 1px rgba(60, 64, 67, 0.15);\n",
              "      fill: #174EA6;\n",
              "    }\n",
              "\n",
              "    [theme=dark] .colab-df-convert {\n",
              "      background-color: #3B4455;\n",
              "      fill: #D2E3FC;\n",
              "    }\n",
              "\n",
              "    [theme=dark] .colab-df-convert:hover {\n",
              "      background-color: #434B5C;\n",
              "      box-shadow: 0px 1px 3px 1px rgba(0, 0, 0, 0.15);\n",
              "      filter: drop-shadow(0px 1px 2px rgba(0, 0, 0, 0.3));\n",
              "      fill: #FFFFFF;\n",
              "    }\n",
              "  </style>\n",
              "\n",
              "      <script>\n",
              "        const buttonEl =\n",
              "          document.querySelector('#df-82e6b6a3-e10d-45f1-8664-d18f4f910d11 button.colab-df-convert');\n",
              "        buttonEl.style.display =\n",
              "          google.colab.kernel.accessAllowed ? 'block' : 'none';\n",
              "\n",
              "        async function convertToInteractive(key) {\n",
              "          const element = document.querySelector('#df-82e6b6a3-e10d-45f1-8664-d18f4f910d11');\n",
              "          const dataTable =\n",
              "            await google.colab.kernel.invokeFunction('convertToInteractive',\n",
              "                                                     [key], {});\n",
              "          if (!dataTable) return;\n",
              "\n",
              "          const docLinkHtml = 'Like what you see? Visit the ' +\n",
              "            '<a target=\"_blank\" href=https://colab.research.google.com/notebooks/data_table.ipynb>data table notebook</a>'\n",
              "            + ' to learn more about interactive tables.';\n",
              "          element.innerHTML = '';\n",
              "          dataTable['output_type'] = 'display_data';\n",
              "          await google.colab.output.renderOutput(dataTable, element);\n",
              "          const docLink = document.createElement('div');\n",
              "          docLink.innerHTML = docLinkHtml;\n",
              "          element.appendChild(docLink);\n",
              "        }\n",
              "      </script>\n",
              "    </div>\n",
              "  </div>\n",
              "  "
            ],
            "text/plain": [
              "                       height  ...                         homeworld\n",
              "name                           ...                                  \n",
              "Luke Skywalker          172.0  ...   http://swapi.dev/api/planets/1/\n",
              "C-3PO                   167.0  ...   http://swapi.dev/api/planets/1/\n",
              "R2-D2                    96.0  ...   http://swapi.dev/api/planets/8/\n",
              "Darth Vader             202.0  ...   http://swapi.dev/api/planets/1/\n",
              "Leia Organa             150.0  ...   http://swapi.dev/api/planets/2/\n",
              "Owen Lars               178.0  ...   http://swapi.dev/api/planets/1/\n",
              "Beru Whitesun lars      165.0  ...   http://swapi.dev/api/planets/1/\n",
              "Biggs Darklighter       183.0  ...   http://swapi.dev/api/planets/1/\n",
              "Obi-Wan Kenobi          182.0  ...  http://swapi.dev/api/planets/20/\n",
              "Anakin Skywalker        188.0  ...   http://swapi.dev/api/planets/1/\n",
              "Chewbacca               228.0  ...  http://swapi.dev/api/planets/14/\n",
              "Han Solo                180.0  ...  http://swapi.dev/api/planets/22/\n",
              "Greedo                  173.0  ...  http://swapi.dev/api/planets/23/\n",
              "Jabba Desilijic Tiure   175.0  ...  http://swapi.dev/api/planets/24/\n",
              "Wedge Antilles          170.0  ...  http://swapi.dev/api/planets/22/\n",
              "Yoda                     66.0  ...  http://swapi.dev/api/planets/28/\n",
              "Palpatine               170.0  ...   http://swapi.dev/api/planets/8/\n",
              "Boba Fett               183.0  ...  http://swapi.dev/api/planets/10/\n",
              "IG-88                   200.0  ...  http://swapi.dev/api/planets/28/\n",
              "Bossk                   190.0  ...  http://swapi.dev/api/planets/29/\n",
              "Lando Calrissian        177.0  ...  http://swapi.dev/api/planets/30/\n",
              "Lobot                   175.0  ...   http://swapi.dev/api/planets/6/\n",
              "Ackbar                  180.0  ...  http://swapi.dev/api/planets/31/\n",
              "Wicket Systri Warrick    88.0  ...   http://swapi.dev/api/planets/7/\n",
              "Qui-Gon Jinn            193.0  ...  http://swapi.dev/api/planets/28/\n",
              "Padmé Amidala           185.0  ...   http://swapi.dev/api/planets/8/\n",
              "Jar Jar Binks           196.0  ...   http://swapi.dev/api/planets/8/\n",
              "Darth Maul              175.0  ...  http://swapi.dev/api/planets/36/\n",
              "Ayla Secura             178.0  ...  http://swapi.dev/api/planets/37/\n",
              "Mace Windu              188.0  ...  http://swapi.dev/api/planets/42/\n",
              "Ki-Adi-Mundi            198.0  ...  http://swapi.dev/api/planets/43/\n",
              "Plo Koon                188.0  ...  http://swapi.dev/api/planets/49/\n",
              "Luminara Unduli         170.0  ...  http://swapi.dev/api/planets/51/\n",
              "Barriss Offee           166.0  ...  http://swapi.dev/api/planets/51/\n",
              "Dooku                   193.0  ...  http://swapi.dev/api/planets/52/\n",
              "Jango Fett              183.0  ...  http://swapi.dev/api/planets/53/\n",
              "\n",
              "[36 rows x 5 columns]"
            ]
          },
          "metadata": {},
          "execution_count": 6
        }
      ],
      "source": [
        "import numpy as np\n",
        "import pandas as pd\n",
        "import matplotlib.pyplot as plt\n",
        "import seaborn as sns; sns.set()  # para el estilo de graficos\n",
        "\n",
        "entidades = ['planets','starships','vehicles','people','species']\n",
        "entidades_df = {x: pd.read_pickle('www/' + x + '_df.pkl') for x in entidades}\n",
        "\n",
        "# Datos principales\n",
        "people_df = entidades_df['people'][[\"height\",\"mass\",\"birth_year\",\"gender\",\"homeworld\"]].dropna()\n",
        "\n",
        "people_df"
      ]
    },
    {
      "cell_type": "markdown",
      "metadata": {
        "id": "8y6PLIR-gjoF"
      },
      "source": [
        "## Ejercicio 1.1. \n",
        "\n",
        "Construye un gráfico de dispersión de los personajes donde se visualice: la altura (height), el peso (mass), la edad en años BBY (birth_year) y el género (gender). Para ello utiliza la función `sns.scatterplot()` de la librería seaborn. Aprovecha todos los parámetros: `x`, `y`, `size`, `hue` y `style` (consulta la ayuda de la función [.scatterplot()](https://seaborn.pydata.org/generated/seaborn.scatterplot.html)."
      ]
    },
    {
      "cell_type": "code",
      "execution_count": 150,
      "metadata": {
        "id": "fURT1ovigjoH",
        "colab": {
          "base_uri": "https://localhost:8080/",
          "height": 285
        },
        "outputId": "2c3bbb42-1aa1-4ca2-f0b4-540c79f5e057"
      },
      "outputs": [
        {
          "output_type": "display_data",
          "data": {
            "image/png": "[encoded data removed]",
            "text/plain": [
              "<Figure size 432x288 with 1 Axes>"
            ]
          },
          "metadata": {}
        }
      ],
      "source": [
        "# Solución:\n",
        "\n",
        "ax = sns.scatterplot(data=people_df, x='height', y='mass', hue='birth_year', size='gender', style='gender')"
      ]
    },
    {
      "cell_type": "markdown",
      "metadata": {
        "id": "1MofC8dugjoQ"
      },
      "source": [
        "## Ejercicio 1.2.\n",
        "\n",
        "Sobre el gráfico del ejercicio 1.1:\n",
        "\n",
        "- Pon título al gráfico y a los ejes x e y. \n",
        "- Modifica los límites del eje y para que aparezcan sólo personajes de menos de 150 Kg de peso.\n",
        "- Sitúa en el gráfico los nombres de \"Darth Vader\" y \"Anakin Skywalker\". ¿Cómo es posible tengan un peso y altura tan distintos si eran la misma persona?"
      ]
    },
    {
      "cell_type": "code",
      "execution_count": 149,
      "metadata": {
        "id": "iHmGn9OrgjoS",
        "colab": {
          "base_uri": "https://localhost:8080/",
          "height": 413
        },
        "outputId": "14c43d2a-9e3f-4517-c58d-aec10468aa30"
      },
      "outputs": [
        {
          "output_type": "execute_result",
          "data": {
            "text/plain": [
              "Text(0, 0.5, 'Mass')"
            ]
          },
          "metadata": {},
          "execution_count": 149
        },
        {
          "output_type": "display_data",
          "data": {
            "image/png": "[encoded data removed]",
            "text/plain": [
              "<Figure size 720x432 with 1 Axes>"
            ]
          },
          "metadata": {}
        }
      ],
      "source": [
        "# Solución:\n",
        "plt.figure(figsize=(10,6))\n",
        "sns.scatterplot(data=people_df[people_df.mass<150], x='height', y='mass', hue='birth_year', size='gender', style='gender')\n",
        "plt.xlabel('Height', size=16)\n",
        "plt.ylabel('Mass', size=16)\n"
      ]
    },
    {
      "cell_type": "markdown",
      "metadata": {
        "id": "D2pjJXbcgjoa"
      },
      "source": [
        "## Ejercicio 1.3.\n",
        "\n",
        "Utiliza las *list comprehension* para calcular el cuadrado de los valores positivos de la siguiente lista:\n",
        "\n",
        "Muestra el resultado por pantalla."
      ]
    },
    {
      "cell_type": "code",
      "execution_count": 28,
      "metadata": {
        "id": "WJjNiT3Qgjoc"
      },
      "outputs": [],
      "source": [
        "val = [5, 6, -1, 2, -3, -7, 9, 1]"
      ]
    },
    {
      "cell_type": "code",
      "execution_count": 31,
      "metadata": {
        "id": "9Hf_uH8ugjol",
        "colab": {
          "base_uri": "https://localhost:8080/"
        },
        "outputId": "a31ae54e-ce0e-4b25-819c-15615f272341"
      },
      "outputs": [
        {
          "output_type": "execute_result",
          "data": {
            "text/plain": [
              "[5, 6, 2, 9, 1]"
            ]
          },
          "metadata": {},
          "execution_count": 31
        }
      ],
      "source": [
        "# Solución:\n",
        "\n",
        "val\n",
        "val_sol = [x for x in val if x > 0 ]\n",
        "val_sol"
      ]
    },
    {
      "cell_type": "markdown",
      "metadata": {
        "id": "AE6CcvVggjou"
      },
      "source": [
        "## Ejercicio 1.4.\n",
        "\n",
        "Construye un diccionario donde se identifique, mediante claves y valores, las siguientes características del personaje Yoda: \"nombre\", \"altura\", \"peso\", \"edad\" y \"genero\". Utiliza los datos de people_df.\n",
        "\n",
        "Muestra el diccionario por pantalla."
      ]
    },
    {
      "cell_type": "code",
      "execution_count": 60,
      "metadata": {
        "id": "eaq6M61-gjo4",
        "colab": {
          "base_uri": "https://localhost:8080/"
        },
        "outputId": "9366f317-15dc-4dba-a035-a8d9d4e94254"
      },
      "outputs": [
        {
          "output_type": "execute_result",
          "data": {
            "text/plain": [
              "{'birth_year': 896,\n",
              " 'gender': 'male',\n",
              " 'heigth': 66.0,\n",
              " 'mass': 17.0,\n",
              " 'name': 'Yoda'}"
            ]
          },
          "metadata": {},
          "execution_count": 60
        }
      ],
      "source": [
        "# Solución:\n",
        "\n",
        "dict_yoda = {'name': \"Yoda\", 'heigth': 66.0, 'mass': 17.0, 'birth_year':896,'gender': \"male\"}\n",
        "dict_yoda\n",
        "\n"
      ]
    },
    {
      "cell_type": "markdown",
      "metadata": {
        "id": "Z2bkPuuEgjpA"
      },
      "source": [
        "## Ejercicio 1.5.\n",
        "\n",
        "Calcula, a partir de los vectores numpy de altura y peso, definidos a continuación, el [índice de masa corporal (IMC)](https://es.wikipedia.org/wiki/%C3%8Dndice_de_masa_corporal) de los personajes de star wars contenidos en people_df: \n",
        "\n",
        "$IMC = \\frac{peso}{altura^{2}}$ donde altura está en metros y el peso en kg.\n",
        "\n",
        "Muestra los datos por pantalla."
      ]
    },
    {
      "cell_type": "code",
      "execution_count": 8,
      "metadata": {
        "id": "j6vDGHHngjpK",
        "colab": {
          "base_uri": "https://localhost:8080/"
        },
        "outputId": "85a86bfd-1a8b-4bc4-9ee5-10b2c97b38fb"
      },
      "outputs": [
        {
          "output_type": "execute_result",
          "data": {
            "text/plain": [
              "array([ 26.02758248,  26.89232314,  34.72222222,  33.33006568,\n",
              "        21.77777778,  37.87400581,  27.54820937,  25.08286303,\n",
              "        23.24598478,  23.76641014,  21.5450908 ,  24.69135802,\n",
              "        24.72518293, 443.42857143,  26.64359862,  39.02662994,\n",
              "        25.95155709,  23.35095106,  35.        ,  31.30193906,\n",
              "        25.21625331,  25.79591837,  25.61728395,  25.82644628,\n",
              "        23.89325888,  13.14828342,  17.18034152,  26.12244898,\n",
              "        17.35891933,  23.76641014,  20.91623304,  22.63467632,\n",
              "        19.44636678,  18.14486863,  21.47708663,  23.58983547])"
            ]
          },
          "metadata": {},
          "execution_count": 8
        }
      ],
      "source": [
        "# Solución:\n",
        "\n",
        "np_mass = np.array(people_df['mass'])\n",
        "np_heigth = np.array(people_df['height'])\n",
        "np_imc = np_mass / ((np_heigth/100) ** 2)\n",
        "np_imc"
      ]
    },
    {
      "cell_type": "markdown",
      "metadata": {
        "id": "165OA48hgjpR"
      },
      "source": [
        "## Ejercicio 1.6.\n",
        "\n",
        "A partir del IMC que has calculado en el ejercicio 1.5. Construye un panel con dos histogramas:\n",
        "\n",
        "- Un histograma con toda la muestra\n",
        "- Un histograma seleccionando los valores con un IMC inferior a 100."
      ]
    },
    {
      "cell_type": "code",
      "execution_count": 19,
      "metadata": {
        "id": "tRACj-JDgjpT",
        "colab": {
          "base_uri": "https://localhost:8080/",
          "height": 285
        },
        "outputId": "ec1b05bd-61fd-4cf3-e03d-e3429b5c7648"
      },
      "outputs": [
        {
          "output_type": "execute_result",
          "data": {
            "text/plain": [
              "<matplotlib.legend.Legend at 0x7fdf096fd910>"
            ]
          },
          "metadata": {},
          "execution_count": 19
        },
        {
          "output_type": "display_data",
          "data": {
            "image/png": "[encoded data removed]",
            "text/plain": [
              "<Figure size 432x288 with 2 Axes>"
            ]
          },
          "metadata": {}
        }
      ],
      "source": [
        "# Solución:\n",
        "plt.figure();\n",
        "\n",
        "plt.subplot(2,1,1)\n",
        "plt.hist(np_imc, color =\"blue\", label=\"con toda la muestra\")\n",
        "plt.legend();\n",
        "\n",
        "#valores inferiores a 100\n",
        "\n",
        "conditional= np_imc[np_imc <100]\n",
        "plt.subplot(2,1,2)\n",
        "plt.hist(conditional, color='green', label='IMC < 100')\n",
        "plt.legend()"
      ]
    },
    {
      "cell_type": "markdown",
      "metadata": {
        "id": "zsqrzaingjpb"
      },
      "source": [
        "## Ejercicio 1.7.\n",
        "\n",
        "A partir del vector 1 y 2 que se definen a continuación contesta las siguientes preguntas:\n",
        "\n",
        "- Calcula el shape, ndim, size del vector1 y vector2\n",
        "- Explica cual es la diferencia entre vector1 y vector2 a partir de los que hayas observado"
      ]
    },
    {
      "cell_type": "code",
      "execution_count": null,
      "metadata": {
        "id": "DYLofIqugjpc"
      },
      "outputs": [],
      "source": [
        "vector1 = np.hstack([altura,peso])\n",
        "vector2 = np.vstack([altura,peso])"
      ]
    },
    {
      "cell_type": "code",
      "execution_count": 30,
      "metadata": {
        "id": "1WBV3vUxgjpm",
        "colab": {
          "base_uri": "https://localhost:8080/"
        },
        "outputId": "88fcf061-ea77-479a-e575-f0cb42ad5892"
      },
      "outputs": [
        {
          "output_type": "stream",
          "name": "stdout",
          "text": [
            "(72,)\n",
            "1\n",
            "72\n",
            "(2, 36)\n",
            "2\n",
            "72\n",
            "[ 172.   167.    96.   202.   150.   178.   165.   183.   182.   188.\n",
            "  228.   180.   173.   175.   170.    66.   170.   183.   200.   190.\n",
            "  177.   175.   180.    88.   193.   185.   196.   175.   178.   188.\n",
            "  198.   188.   170.   166.   193.   183.    77.    75.    32.   136.\n",
            "   49.   120.    75.    84.    77.    84.   112.    80.    74.  1358.\n",
            "   77.    17.    75.    78.2  140.   113.    79.    79.    83.    20.\n",
            "   89.    45.    66.    80.    55.    84.    82.    80.    56.2   50.\n",
            "   80.    79. ]\n",
            "[[ 172.   167.    96.   202.   150.   178.   165.   183.   182.   188.\n",
            "   228.   180.   173.   175.   170.    66.   170.   183.   200.   190.\n",
            "   177.   175.   180.    88.   193.   185.   196.   175.   178.   188.\n",
            "   198.   188.   170.   166.   193.   183. ]\n",
            " [  77.    75.    32.   136.    49.   120.    75.    84.    77.    84.\n",
            "   112.    80.    74.  1358.    77.    17.    75.    78.2  140.   113.\n",
            "    79.    79.    83.    20.    89.    45.    66.    80.    55.    84.\n",
            "    82.    80.    56.2   50.    80.    79. ]]\n"
          ]
        }
      ],
      "source": [
        "# Solución:\n",
        "\n",
        "\n",
        "vector1 = np.hstack([np_heigth,np_mass])\n",
        "print(vector1.shape)\n",
        "print(vector1.ndim)\n",
        "print(np.size(vector1))\n",
        "\n",
        "vector2 = np.vstack([np_heigth,np_mass])\n",
        "print(vector2.shape)\n",
        "print(vector2.ndim)\n",
        "print(np.size(vector2))\n",
        "\n",
        "print(vector1)\n",
        "print(vector2)\n",
        "\n",
        "#Explica cual es la diferencia\n",
        "\n",
        "''' La diferencia de hstack y vstack es principalmente porque vstack te permite \n",
        "combinar los arrays verticalmente, mientras hstack lo hace horizontalmente, por\n",
        "ello, las dimensiones dan una respuesta distinta.'''"
      ]
    },
    {
      "cell_type": "markdown",
      "metadata": {
        "id": "PnkDGSu0gjpw"
      },
      "source": [
        "## Ejercicio 1.8.\n",
        "\n",
        "Crea una copia de people_df llamada personajes_df y renombra las columnas con su traducción al castellano. \n",
        "\n",
        "Muestra los 5 primeros registros del nuevo data frame con `.head()`."
      ]
    },
    {
      "cell_type": "code",
      "execution_count": 101,
      "metadata": {
        "id": "7jK-a6Engjpx",
        "colab": {
          "base_uri": "https://localhost:8080/",
          "height": 238
        },
        "outputId": "a92bd693-e7ae-4dc2-cb71-a71919151043"
      },
      "outputs": [
        {
          "output_type": "execute_result",
          "data": {
            "text/html": [
              "\n",
              "  <div id=\"df-bdcc0054-2fd1-4ca9-ac09-6c20fd82eb04\">\n",
              "    <div class=\"colab-df-container\">\n",
              "      <div>\n",
              "<style scoped>\n",
              "    .dataframe tbody tr th:only-of-type {\n",
              "        vertical-align: middle;\n",
              "    }\n",
              "\n",
              "    .dataframe tbody tr th {\n",
              "        vertical-align: top;\n",
              "    }\n",
              "\n",
              "    .dataframe thead th {\n",
              "        text-align: right;\n",
              "    }\n",
              "</style>\n",
              "<table border=\"1\" class=\"dataframe\">\n",
              "  <thead>\n",
              "    <tr style=\"text-align: right;\">\n",
              "      <th></th>\n",
              "      <th>altura</th>\n",
              "      <th>peso</th>\n",
              "      <th>cumpleaños</th>\n",
              "      <th>genero</th>\n",
              "      <th>mundo_natal</th>\n",
              "    </tr>\n",
              "    <tr>\n",
              "      <th>name</th>\n",
              "      <th></th>\n",
              "      <th></th>\n",
              "      <th></th>\n",
              "      <th></th>\n",
              "      <th></th>\n",
              "    </tr>\n",
              "  </thead>\n",
              "  <tbody>\n",
              "    <tr>\n",
              "      <th>Luke Skywalker</th>\n",
              "      <td>172.0</td>\n",
              "      <td>77.0</td>\n",
              "      <td>19.0</td>\n",
              "      <td>male</td>\n",
              "      <td>http://swapi.dev/api/planets/1/</td>\n",
              "    </tr>\n",
              "    <tr>\n",
              "      <th>C-3PO</th>\n",
              "      <td>167.0</td>\n",
              "      <td>75.0</td>\n",
              "      <td>112.0</td>\n",
              "      <td>none</td>\n",
              "      <td>http://swapi.dev/api/planets/1/</td>\n",
              "    </tr>\n",
              "    <tr>\n",
              "      <th>R2-D2</th>\n",
              "      <td>96.0</td>\n",
              "      <td>32.0</td>\n",
              "      <td>33.0</td>\n",
              "      <td>none</td>\n",
              "      <td>http://swapi.dev/api/planets/8/</td>\n",
              "    </tr>\n",
              "    <tr>\n",
              "      <th>Darth Vader</th>\n",
              "      <td>202.0</td>\n",
              "      <td>136.0</td>\n",
              "      <td>41.9</td>\n",
              "      <td>male</td>\n",
              "      <td>http://swapi.dev/api/planets/1/</td>\n",
              "    </tr>\n",
              "    <tr>\n",
              "      <th>Leia Organa</th>\n",
              "      <td>150.0</td>\n",
              "      <td>49.0</td>\n",
              "      <td>19.0</td>\n",
              "      <td>female</td>\n",
              "      <td>http://swapi.dev/api/planets/2/</td>\n",
              "    </tr>\n",
              "  </tbody>\n",
              "</table>\n",
              "</div>\n",
              "      <button class=\"colab-df-convert\" onclick=\"convertToInteractive('df-bdcc0054-2fd1-4ca9-ac09-6c20fd82eb04')\"\n",
              "              title=\"Convert this dataframe to an interactive table.\"\n",
              "              style=\"display:none;\">\n",
              "        \n",
              "  <svg xmlns=\"http://www.w3.org/2000/svg\" height=\"24px\"viewBox=\"0 0 24 24\"\n",
              "       width=\"24px\">\n",
              "    <path d=\"M0 0h24v24H0V0z\" fill=\"none\"/>\n",
              "    <path d=\"M18.56 5.44l.94 2.06.94-2.06 2.06-.94-2.06-.94-.94-2.06-.94 2.06-2.06.94zm-11 1L8.5 8.5l.94-2.06 2.06-.94-2.06-.94L8.5 2.5l-.94 2.06-2.06.94zm10 10l.94 2.06.94-2.06 2.06-.94-2.06-.94-.94-2.06-.94 2.06-2.06.94z\"/><path d=\"M17.41 7.96l-1.37-1.37c-.4-.4-.92-.59-1.43-.59-.52 0-1.04.2-1.43.59L10.3 9.45l-7.72 7.72c-.78.78-.78 2.05 0 2.83L4 21.41c.39.39.9.59 1.41.59.51 0 1.02-.2 1.41-.59l7.78-7.78 2.81-2.81c.8-.78.8-2.07 0-2.86zM5.41 20L4 18.59l7.72-7.72 1.47 1.35L5.41 20z\"/>\n",
              "  </svg>\n",
              "      </button>\n",
              "      \n",
              "  <style>\n",
              "    .colab-df-container {\n",
              "      display:flex;\n",
              "      flex-wrap:wrap;\n",
              "      gap: 12px;\n",
              "    }\n",
              "\n",
              "    .colab-df-convert {\n",
              "      background-color: #E8F0FE;\n",
              "      border: none;\n",
              "      border-radius: 50%;\n",
              "      cursor: pointer;\n",
              "      display: none;\n",
              "      fill: #1967D2;\n",
              "      height: 32px;\n",
              "      padding: 0 0 0 0;\n",
              "      width: 32px;\n",
              "    }\n",
              "\n",
              "    .colab-df-convert:hover {\n",
              "      background-color: #E2EBFA;\n",
              "      box-shadow: 0px 1px 2px rgba(60, 64, 67, 0.3), 0px 1px 3px 1px rgba(60, 64, 67, 0.15);\n",
              "      fill: #174EA6;\n",
              "    }\n",
              "\n",
              "    [theme=dark] .colab-df-convert {\n",
              "      background-color: #3B4455;\n",
              "      fill: #D2E3FC;\n",
              "    }\n",
              "\n",
              "    [theme=dark] .colab-df-convert:hover {\n",
              "      background-color: #434B5C;\n",
              "      box-shadow: 0px 1px 3px 1px rgba(0, 0, 0, 0.15);\n",
              "      filter: drop-shadow(0px 1px 2px rgba(0, 0, 0, 0.3));\n",
              "      fill: #FFFFFF;\n",
              "    }\n",
              "  </style>\n",
              "\n",
              "      <script>\n",
              "        const buttonEl =\n",
              "          document.querySelector('#df-bdcc0054-2fd1-4ca9-ac09-6c20fd82eb04 button.colab-df-convert');\n",
              "        buttonEl.style.display =\n",
              "          google.colab.kernel.accessAllowed ? 'block' : 'none';\n",
              "\n",
              "        async function convertToInteractive(key) {\n",
              "          const element = document.querySelector('#df-bdcc0054-2fd1-4ca9-ac09-6c20fd82eb04');\n",
              "          const dataTable =\n",
              "            await google.colab.kernel.invokeFunction('convertToInteractive',\n",
              "                                                     [key], {});\n",
              "          if (!dataTable) return;\n",
              "\n",
              "          const docLinkHtml = 'Like what you see? Visit the ' +\n",
              "            '<a target=\"_blank\" href=https://colab.research.google.com/notebooks/data_table.ipynb>data table notebook</a>'\n",
              "            + ' to learn more about interactive tables.';\n",
              "          element.innerHTML = '';\n",
              "          dataTable['output_type'] = 'display_data';\n",
              "          await google.colab.output.renderOutput(dataTable, element);\n",
              "          const docLink = document.createElement('div');\n",
              "          docLink.innerHTML = docLinkHtml;\n",
              "          element.appendChild(docLink);\n",
              "        }\n",
              "      </script>\n",
              "    </div>\n",
              "  </div>\n",
              "  "
            ],
            "text/plain": [
              "                altura   peso  ...  genero                      mundo_natal\n",
              "name                           ...                                         \n",
              "Luke Skywalker   172.0   77.0  ...    male  http://swapi.dev/api/planets/1/\n",
              "C-3PO            167.0   75.0  ...    none  http://swapi.dev/api/planets/1/\n",
              "R2-D2             96.0   32.0  ...    none  http://swapi.dev/api/planets/8/\n",
              "Darth Vader      202.0  136.0  ...    male  http://swapi.dev/api/planets/1/\n",
              "Leia Organa      150.0   49.0  ...  female  http://swapi.dev/api/planets/2/\n",
              "\n",
              "[5 rows x 5 columns]"
            ]
          },
          "metadata": {},
          "execution_count": 101
        }
      ],
      "source": [
        "# Solución:\n",
        "\n",
        "personajes_df = people_df.copy().rename(columns={'height':'altura','mass':'peso','birth_year':'cumpleaños','gender':'genero','homeworld':'mundo_natal'})\n",
        "personajes_df.head(5)"
      ]
    },
    {
      "cell_type": "markdown",
      "metadata": {
        "id": "blkoKgizgjp5"
      },
      "source": [
        "## Ejercicio 1.9.\n",
        "\n",
        "Haz el mismo cálculo de IMC que has hecho en 1.5. pero directamente sobre el objeto personajes_df.\n",
        "\n",
        "Ordena el data frame de mayor a menor IMC y muestra el nombre e IMC de los personajes con IMC por encima de 30.\n",
        "\n",
        "> ¿Sabias que IMC por encima de 30 se considera obeso?\n"
      ]
    },
    {
      "cell_type": "code",
      "execution_count": 112,
      "metadata": {
        "id": "CHIIcuANgjp6",
        "colab": {
          "base_uri": "https://localhost:8080/"
        },
        "outputId": "7d9d9a46-d480-45b6-c010-3f89249efd57"
      },
      "outputs": [
        {
          "output_type": "execute_result",
          "data": {
            "text/plain": [
              "name\n",
              "Jabba Desilijic Tiure    443.428571\n",
              "Yoda                      39.026630\n",
              "Owen Lars                 37.874006\n",
              "IG-88                     35.000000\n",
              "R2-D2                     34.722222\n",
              "Darth Vader               33.330066\n",
              "Bossk                     31.301939\n",
              "dtype: float64"
            ]
          },
          "metadata": {},
          "execution_count": 112
        }
      ],
      "source": [
        "# Solución:\n",
        "\n",
        "imc_1 = (personajes_df['peso'] / ((personajes_df['altura']/100) ** 2)).sort_values(ascending=False)\n",
        "imc_1[imc_1 > 30]\n",
        "\n"
      ]
    },
    {
      "cell_type": "markdown",
      "metadata": {
        "id": "E-goVaMEgjqB"
      },
      "source": [
        "## Ejercicio 1.10.\n",
        "\n",
        "Inserta un valor faltante en los valores de IMC que sean superiores a 100 y dibuja el histograma del IMC transformado con `.plot.hist()`."
      ]
    },
    {
      "cell_type": "code",
      "execution_count": 148,
      "metadata": {
        "id": "oWQQoDs_gjqD",
        "colab": {
          "base_uri": "https://localhost:8080/",
          "height": 945
        },
        "outputId": "8fa97fbb-95b9-4556-86f6-b1cc1f67d36a"
      },
      "outputs": [
        {
          "output_type": "stream",
          "name": "stdout",
          "text": [
            "name\n",
            "Jabba Desilijic Tiure          NaN\n",
            "Yoda                     39.026630\n",
            "Owen Lars                37.874006\n",
            "IG-88                    35.000000\n",
            "R2-D2                    34.722222\n",
            "Darth Vader              33.330066\n",
            "Bossk                    31.301939\n",
            "Beru Whitesun lars       27.548209\n",
            "C-3PO                    26.892323\n",
            "Wedge Antilles           26.643599\n",
            "Darth Maul               26.122449\n",
            "Luke Skywalker           26.027582\n",
            "Palpatine                25.951557\n",
            "Wicket Systri Warrick    25.826446\n",
            "Lobot                    25.795918\n",
            "Ackbar                   25.617284\n",
            "Lando Calrissian         25.216253\n",
            "Biggs Darklighter        25.082863\n",
            "Greedo                   24.725183\n",
            "Han Solo                 24.691358\n",
            "Qui-Gon Jinn             23.893259\n",
            "Anakin Skywalker         23.766410\n",
            "Mace Windu               23.766410\n",
            "Jango Fett               23.589835\n",
            "Boba Fett                23.350951\n",
            "Obi-Wan Kenobi           23.245985\n",
            "Plo Koon                 22.634676\n",
            "Leia Organa              21.777778\n",
            "Chewbacca                21.545091\n",
            "Dooku                    21.477087\n",
            "Ki-Adi-Mundi             20.916233\n",
            "Luminara Unduli          19.446367\n",
            "Barriss Offee            18.144869\n",
            "Ayla Secura              17.358919\n",
            "Jar Jar Binks            17.180342\n",
            "Padmé Amidala            13.148283\n",
            "dtype: float64\n"
          ]
        },
        {
          "output_type": "execute_result",
          "data": {
            "text/plain": [
              "<matplotlib.axes._subplots.AxesSubplot at 0x7fdf08a56890>"
            ]
          },
          "metadata": {},
          "execution_count": 148
        },
        {
          "output_type": "display_data",
          "data": {
            "image/png": "[encoded data removed]",
            "text/plain": [
              "<Figure size 432x288 with 1 Axes>"
            ]
          },
          "metadata": {}
        }
      ],
      "source": [
        "# Solucion \n",
        "\n",
        "\n",
        "imc_1.loc[imc_1 > 100] = None\n",
        "print(imc_1)\n",
        "imc_1.hist()\n"
      ]
    }
  ],
  "metadata": {
    "colab": {
      "name": "M1B2T4_2_AI1_CAMACHOPAUL.ipynb",
      "provenance": [],
      "include_colab_link": true
    },
    "kernelspec": {
      "display_name": "mbdds_rpy20",
      "language": "python",
      "name": "mbdds_rpy20"
    },
    "language_info": {
      "codemirror_mode": {
        "name": "ipython",
        "version": 3
      },
      "file_extension": ".py",
      "mimetype": "text/x-python",
      "name": "python",
      "nbconvert_exporter": "python",
      "pygments_lexer": "ipython3",
      "version": "3.6.9"
    }
  },
  "nbformat": 4,
  "nbformat_minor": 0
}